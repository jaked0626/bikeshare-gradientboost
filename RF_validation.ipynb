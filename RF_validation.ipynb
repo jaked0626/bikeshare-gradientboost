{
 "cells": [
  {
   "cell_type": "code",
   "execution_count": 1,
   "id": "13a6f0a6",
   "metadata": {},
   "outputs": [],
   "source": [
    "import pandas as pd\n",
    "import numpy as np\n",
    "import matplotlib.pyplot as plt\n",
    "import seaborn as sns\n",
    "import warnings\n",
    "warnings.filterwarnings(\"ignore\")\n",
    "\n",
    "train = pd.read_table(\"train.csv\", sep = \",\")\n",
    "train['station_id'] = train['station_id'].astype(str) # station_id をダミー変数化するため，あえてstrに変換している"
   ]
  },
  {
   "cell_type": "code",
   "execution_count": 2,
   "id": "270f7811",
   "metadata": {},
   "outputs": [
    {
     "name": "stdout",
     "output_type": "stream",
     "text": [
      "(1033200, 18)\n"
     ]
    },
    {
     "data": {
      "text/html": [
       "<div>\n",
       "<style scoped>\n",
       "    .dataframe tbody tr th:only-of-type {\n",
       "        vertical-align: middle;\n",
       "    }\n",
       "\n",
       "    .dataframe tbody tr th {\n",
       "        vertical-align: top;\n",
       "    }\n",
       "\n",
       "    .dataframe thead th {\n",
       "        text-align: right;\n",
       "    }\n",
       "</style>\n",
       "<table border=\"1\" class=\"dataframe\">\n",
       "  <thead>\n",
       "    <tr style=\"text-align: right;\">\n",
       "      <th></th>\n",
       "      <th>Unnamed: 0</th>\n",
       "      <th>id</th>\n",
       "      <th>year</th>\n",
       "      <th>month</th>\n",
       "      <th>day</th>\n",
       "      <th>hour</th>\n",
       "      <th>station_id</th>\n",
       "      <th>bikes_available_x</th>\n",
       "      <th>predict</th>\n",
       "      <th>day_name</th>\n",
       "      <th>hol_dum</th>\n",
       "      <th>temp</th>\n",
       "      <th>rain</th>\n",
       "      <th>datet_x</th>\n",
       "      <th>datet_y</th>\n",
       "      <th>bikes_available_y</th>\n",
       "      <th>datet_y.1</th>\n",
       "      <th>bikes_available_y.1</th>\n",
       "    </tr>\n",
       "  </thead>\n",
       "  <tbody>\n",
       "    <tr>\n",
       "      <th>0</th>\n",
       "      <td>0</td>\n",
       "      <td>0</td>\n",
       "      <td>2013</td>\n",
       "      <td>9</td>\n",
       "      <td>1</td>\n",
       "      <td>0</td>\n",
       "      <td>0</td>\n",
       "      <td>11.0</td>\n",
       "      <td>0</td>\n",
       "      <td>Sunday</td>\n",
       "      <td>0</td>\n",
       "      <td>70</td>\n",
       "      <td>0</td>\n",
       "      <td>2013-09-01 00:00:00</td>\n",
       "      <td>2013-08-31 00:00:00</td>\n",
       "      <td>14.015884</td>\n",
       "      <td>2013-08-25 00:00:00</td>\n",
       "      <td>13.540189</td>\n",
       "    </tr>\n",
       "    <tr>\n",
       "      <th>1</th>\n",
       "      <td>1</td>\n",
       "      <td>1</td>\n",
       "      <td>2013</td>\n",
       "      <td>9</td>\n",
       "      <td>1</td>\n",
       "      <td>1</td>\n",
       "      <td>0</td>\n",
       "      <td>11.0</td>\n",
       "      <td>0</td>\n",
       "      <td>Sunday</td>\n",
       "      <td>0</td>\n",
       "      <td>70</td>\n",
       "      <td>0</td>\n",
       "      <td>2013-09-01 01:00:00</td>\n",
       "      <td>2013-08-31 01:00:00</td>\n",
       "      <td>14.015884</td>\n",
       "      <td>2013-08-25 01:00:00</td>\n",
       "      <td>13.540189</td>\n",
       "    </tr>\n",
       "    <tr>\n",
       "      <th>2</th>\n",
       "      <td>2</td>\n",
       "      <td>2</td>\n",
       "      <td>2013</td>\n",
       "      <td>9</td>\n",
       "      <td>1</td>\n",
       "      <td>2</td>\n",
       "      <td>0</td>\n",
       "      <td>11.0</td>\n",
       "      <td>0</td>\n",
       "      <td>Sunday</td>\n",
       "      <td>0</td>\n",
       "      <td>70</td>\n",
       "      <td>0</td>\n",
       "      <td>2013-09-01 02:00:00</td>\n",
       "      <td>2013-08-31 02:00:00</td>\n",
       "      <td>14.015884</td>\n",
       "      <td>2013-08-25 02:00:00</td>\n",
       "      <td>13.540189</td>\n",
       "    </tr>\n",
       "    <tr>\n",
       "      <th>3</th>\n",
       "      <td>3</td>\n",
       "      <td>3</td>\n",
       "      <td>2013</td>\n",
       "      <td>9</td>\n",
       "      <td>1</td>\n",
       "      <td>3</td>\n",
       "      <td>0</td>\n",
       "      <td>11.0</td>\n",
       "      <td>0</td>\n",
       "      <td>Sunday</td>\n",
       "      <td>0</td>\n",
       "      <td>70</td>\n",
       "      <td>0</td>\n",
       "      <td>2013-09-01 03:00:00</td>\n",
       "      <td>2013-08-31 03:00:00</td>\n",
       "      <td>14.015884</td>\n",
       "      <td>2013-08-25 03:00:00</td>\n",
       "      <td>13.540189</td>\n",
       "    </tr>\n",
       "    <tr>\n",
       "      <th>4</th>\n",
       "      <td>4</td>\n",
       "      <td>4</td>\n",
       "      <td>2013</td>\n",
       "      <td>9</td>\n",
       "      <td>1</td>\n",
       "      <td>4</td>\n",
       "      <td>0</td>\n",
       "      <td>11.0</td>\n",
       "      <td>0</td>\n",
       "      <td>Sunday</td>\n",
       "      <td>0</td>\n",
       "      <td>70</td>\n",
       "      <td>0</td>\n",
       "      <td>2013-09-01 04:00:00</td>\n",
       "      <td>2013-08-31 04:00:00</td>\n",
       "      <td>14.015884</td>\n",
       "      <td>2013-08-25 04:00:00</td>\n",
       "      <td>13.540189</td>\n",
       "    </tr>\n",
       "  </tbody>\n",
       "</table>\n",
       "</div>"
      ],
      "text/plain": [
       "   Unnamed: 0  id  year  month  day  hour station_id  bikes_available_x  \\\n",
       "0           0   0  2013      9    1     0          0               11.0   \n",
       "1           1   1  2013      9    1     1          0               11.0   \n",
       "2           2   2  2013      9    1     2          0               11.0   \n",
       "3           3   3  2013      9    1     3          0               11.0   \n",
       "4           4   4  2013      9    1     4          0               11.0   \n",
       "\n",
       "   predict day_name  hol_dum  temp  rain              datet_x  \\\n",
       "0        0   Sunday        0    70     0  2013-09-01 00:00:00   \n",
       "1        0   Sunday        0    70     0  2013-09-01 01:00:00   \n",
       "2        0   Sunday        0    70     0  2013-09-01 02:00:00   \n",
       "3        0   Sunday        0    70     0  2013-09-01 03:00:00   \n",
       "4        0   Sunday        0    70     0  2013-09-01 04:00:00   \n",
       "\n",
       "               datet_y  bikes_available_y            datet_y.1  \\\n",
       "0  2013-08-31 00:00:00          14.015884  2013-08-25 00:00:00   \n",
       "1  2013-08-31 01:00:00          14.015884  2013-08-25 01:00:00   \n",
       "2  2013-08-31 02:00:00          14.015884  2013-08-25 02:00:00   \n",
       "3  2013-08-31 03:00:00          14.015884  2013-08-25 03:00:00   \n",
       "4  2013-08-31 04:00:00          14.015884  2013-08-25 04:00:00   \n",
       "\n",
       "   bikes_available_y.1  \n",
       "0            13.540189  \n",
       "1            13.540189  \n",
       "2            13.540189  \n",
       "3            13.540189  \n",
       "4            13.540189  "
      ]
     },
     "execution_count": 2,
     "metadata": {},
     "output_type": "execute_result"
    }
   ],
   "source": [
    "print(train.shape)\n",
    "train.head()"
   ]
  },
  {
   "cell_type": "markdown",
   "id": "9a6a56e8",
   "metadata": {},
   "source": [
    "### station_idによって曜日の影響が異なる（住宅地，商業地などの違い？）"
   ]
  },
  {
   "cell_type": "code",
   "execution_count": 3,
   "id": "14dfac8b",
   "metadata": {},
   "outputs": [
    {
     "data": {
      "text/plain": [
       "<AxesSubplot:xlabel='day_name', ylabel='bikes_available_x'>"
      ]
     },
     "execution_count": 3,
     "metadata": {},
     "output_type": "execute_result"
    },
    {
     "data": {
      "image/png": "[encoded data removed]",
      "text/plain": [
       "<Figure size 432x288 with 1 Axes>"
      ]
     },
     "metadata": {
      "needs_background": "light"
     },
     "output_type": "display_data"
    }
   ],
   "source": [
    "sns.barplot(x = \"day_name\", y = \"bikes_available_x\", data = train[train['station_id'] == '18'])"
   ]
  },
  {
   "cell_type": "code",
   "execution_count": 4,
   "id": "2cf3bf15",
   "metadata": {},
   "outputs": [
    {
     "data": {
      "text/plain": [
       "<AxesSubplot:xlabel='hol_dum', ylabel='bikes_available_x'>"
      ]
     },
     "execution_count": 4,
     "metadata": {},
     "output_type": "execute_result"
    },
    {
     "data": {
      "image/png": "[encoded data removed]",
      "text/plain": [
       "<Figure size 432x288 with 1 Axes>"
      ]
     },
     "metadata": {
      "needs_background": "light"
     },
     "output_type": "display_data"
    }
   ],
   "source": [
    "sns.barplot(x = \"hol_dum\", y = \"bikes_available_x\", data = train[train['station_id'] == '18'])"
   ]
  },
  {
   "cell_type": "code",
   "execution_count": 5,
   "id": "a97d02e9",
   "metadata": {},
   "outputs": [
    {
     "data": {
      "text/plain": [
       "<AxesSubplot:xlabel='day_name', ylabel='bikes_available_x'>"
      ]
     },
     "execution_count": 5,
     "metadata": {},
     "output_type": "execute_result"
    },
    {
     "data": {
      "image/png": "[encoded data removed]",
      "text/plain": [
       "<Figure size 432x288 with 1 Axes>"
      ]
     },
     "metadata": {
      "needs_background": "light"
     },
     "output_type": "display_data"
    }
   ],
   "source": [
    "sns.barplot(x = \"day_name\", y = \"bikes_available_x\", data = train[train['station_id'] == '8'])"
   ]
  },
  {
   "cell_type": "code",
   "execution_count": 6,
   "id": "94d264d2",
   "metadata": {},
   "outputs": [
    {
     "data": {
      "text/plain": [
       "<AxesSubplot:xlabel='hol_dum', ylabel='bikes_available_x'>"
      ]
     },
     "execution_count": 6,
     "metadata": {},
     "output_type": "execute_result"
    },
    {
     "data": {
      "image/png": "[encoded data removed]",
      "text/plain": [
       "<Figure size 432x288 with 1 Axes>"
      ]
     },
     "metadata": {
      "needs_background": "light"
     },
     "output_type": "display_data"
    }
   ],
   "source": [
    "sns.barplot(x = \"hol_dum\", y = \"bikes_available_x\", data = train[train['station_id'] == '8'])"
   ]
  },
  {
   "cell_type": "code",
   "execution_count": 7,
   "id": "88a7afe8",
   "metadata": {},
   "outputs": [
    {
     "data": {
      "text/plain": [
       "<AxesSubplot:xlabel='hour', ylabel='bikes_available_x'>"
      ]
     },
     "execution_count": 7,
     "metadata": {},
     "output_type": "execute_result"
    },
    {
     "data": {
      "image/png": "[encoded data removed]",
      "text/plain": [
       "<Figure size 432x288 with 1 Axes>"
      ]
     },
     "metadata": {
      "needs_background": "light"
     },
     "output_type": "display_data"
    }
   ],
   "source": [
    "sns.barplot(x = \"hour\", y = \"bikes_available_x\", data = train)"
   ]
  },
  {
   "cell_type": "code",
   "execution_count": 8,
   "id": "fc70d723",
   "metadata": {},
   "outputs": [
    {
     "data": {
      "text/plain": [
       "<AxesSubplot:xlabel='night', ylabel='bikes_available_x'>"
      ]
     },
     "execution_count": 8,
     "metadata": {},
     "output_type": "execute_result"
    },
    {
     "data": {
      "image/png": "[encoded data removed]",
      "text/plain": [
       "<Figure size 432x288 with 1 Axes>"
      ]
     },
     "metadata": {
      "needs_background": "light"
     },
     "output_type": "display_data"
    }
   ],
   "source": [
    "# 2200 - 0600 のダミー変数をつくる．\n",
    "\n",
    "def night_dum(s):\n",
    "    if (s >= 22) or (s <= 6): \n",
    "        return 1\n",
    "    else:\n",
    "        return 0\n",
    "\n",
    "train['night'] = train['hour'].apply(night_dum)\n",
    "\n",
    "sns.barplot(x = \"night\", y = \"bikes_available_x\", data = train)"
   ]
  },
  {
   "cell_type": "code",
   "execution_count": 9,
   "id": "0c524c00",
   "metadata": {},
   "outputs": [],
   "source": [
    "# Validation Set: 今回は適当に2014 8/24 - 2014 8/31\n",
    "\n",
    "import datetime as dt\n",
    "\n",
    "val_in      = (dt.datetime(2014,8,24) <= pd.to_datetime(train['datet_x']))*(pd.to_datetime(train['datet_x']) <= dt.datetime(2014,8,31))\n",
    "train_val   = train[val_in == 1].drop(['datet_x', 'datet_y', 'datet_y.1'], axis=1)\n",
    "train_train = train[pd.to_datetime(train['datet_x']) < dt.datetime(2014,8,24)].dropna().drop(['datet_x', 'datet_y', 'datet_y.1'], axis=1)"
   ]
  },
  {
   "cell_type": "code",
   "execution_count": 10,
   "id": "661d3e9b",
   "metadata": {},
   "outputs": [
    {
     "name": "stdout",
     "output_type": "stream",
     "text": [
      "<class 'pandas.core.frame.DataFrame'>\n",
      "Int64Index: 578155 entries, 0 to 1027007\n",
      "Data columns (total 16 columns):\n",
      " #   Column               Non-Null Count   Dtype  \n",
      "---  ------               --------------   -----  \n",
      " 0   Unnamed: 0           578155 non-null  int64  \n",
      " 1   id                   578155 non-null  int64  \n",
      " 2   year                 578155 non-null  int64  \n",
      " 3   month                578155 non-null  int64  \n",
      " 4   day                  578155 non-null  int64  \n",
      " 5   hour                 578155 non-null  int64  \n",
      " 6   station_id           578155 non-null  object \n",
      " 7   bikes_available_x    578155 non-null  float64\n",
      " 8   predict              578155 non-null  int64  \n",
      " 9   day_name             578155 non-null  object \n",
      " 10  hol_dum              578155 non-null  int64  \n",
      " 11  temp                 578155 non-null  int64  \n",
      " 12  rain                 578155 non-null  int64  \n",
      " 13  bikes_available_y    578155 non-null  float64\n",
      " 14  bikes_available_y.1  578155 non-null  float64\n",
      " 15  night                578155 non-null  int64  \n",
      "dtypes: float64(3), int64(11), object(2)\n",
      "memory usage: 75.0+ MB\n"
     ]
    }
   ],
   "source": [
    "train_train.info()"
   ]
  },
  {
   "cell_type": "code",
   "execution_count": 11,
   "id": "1abc9bca",
   "metadata": {},
   "outputs": [
    {
     "name": "stdout",
     "output_type": "stream",
     "text": [
      "<class 'pandas.core.frame.DataFrame'>\n",
      "Int64Index: 11830 entries, 8568 to 1027176\n",
      "Data columns (total 16 columns):\n",
      " #   Column               Non-Null Count  Dtype  \n",
      "---  ------               --------------  -----  \n",
      " 0   Unnamed: 0           11830 non-null  int64  \n",
      " 1   id                   11830 non-null  int64  \n",
      " 2   year                 11830 non-null  int64  \n",
      " 3   month                11830 non-null  int64  \n",
      " 4   day                  11830 non-null  int64  \n",
      " 5   hour                 11830 non-null  int64  \n",
      " 6   station_id           11830 non-null  object \n",
      " 7   bikes_available_x    11830 non-null  float64\n",
      " 8   predict              11830 non-null  int64  \n",
      " 9   day_name             11830 non-null  object \n",
      " 10  hol_dum              11830 non-null  int64  \n",
      " 11  temp                 11830 non-null  int64  \n",
      " 12  rain                 11830 non-null  int64  \n",
      " 13  bikes_available_y    11830 non-null  float64\n",
      " 14  bikes_available_y.1  11830 non-null  float64\n",
      " 15  night                11830 non-null  int64  \n",
      "dtypes: float64(3), int64(11), object(2)\n",
      "memory usage: 1.5+ MB\n"
     ]
    }
   ],
   "source": [
    "train_val.info()"
   ]
  },
  {
   "cell_type": "code",
   "execution_count": 12,
   "id": "c66dd0e2",
   "metadata": {},
   "outputs": [],
   "source": [
    "# ランダムフォレスト\n",
    "\n",
    "from sklearn.ensemble import RandomForestRegressor\n",
    "from sklearn.metrics import mean_squared_error\n",
    "\n",
    "Y_train = train_train.bikes_available_x\n",
    "Y_test  = train_val.bikes_available_x\n",
    "X_train = pd.get_dummies(train_train[['station_id', 'month', 'hour', 'night', 'day_name', 'hol_dum', 'temp', 'rain', 'bikes_available_y', 'bikes_available_y.1']]).iloc[:,:].values\n",
    "X_test  = pd.get_dummies(train_val[['station_id', 'month', 'hour', 'night', 'day_name', 'hol_dum', 'temp', 'rain', 'bikes_available_y', 'bikes_available_y.1']]).iloc[:,:].values"
   ]
  },
  {
   "cell_type": "code",
   "execution_count": 13,
   "id": "043956b0",
   "metadata": {},
   "outputs": [],
   "source": [
    "def grid_search(a,b,c):\n",
    "    rf  = RandomForestRegressor(criterion = 'mse', max_features = a, n_estimators = b, min_samples_leaf = c, random_state = 1)\n",
    "    rf.fit(X_train, Y_train)\n",
    "    Y_pred = rf.predict(X_test)\n",
    "    mse_score = mean_squared_error(Y_test, Y_pred)\n",
    "    print(mse_score**0.5)"
   ]
  },
  {
   "cell_type": "code",
   "execution_count": 14,
   "id": "6ac72e88",
   "metadata": {},
   "outputs": [
    {
     "name": "stdout",
     "output_type": "stream",
     "text": [
      "3.014162110064201\n"
     ]
    }
   ],
   "source": [
    "# grid_search(5,300,5)\n",
    "\n",
    "rf  = RandomForestRegressor(criterion = 'mse', max_features = 5, n_estimators = 300, min_samples_leaf = 5, random_state = 1)\n",
    "rf.fit(X_train, Y_train)\n",
    "Y_pred = rf.predict(X_test)\n",
    "mse_score = mean_squared_error(Y_test, Y_pred)\n",
    "print(mse_score**0.5)"
   ]
  },
  {
   "cell_type": "code",
   "execution_count": 15,
   "id": "364989b2",
   "metadata": {},
   "outputs": [
    {
     "data": {
      "text/plain": [
       "<AxesSubplot:>"
      ]
     },
     "execution_count": 15,
     "metadata": {},
     "output_type": "execute_result"
    },
    {
     "data": {
      "image/png": "[encoded data removed]",
      "text/plain": [
       "<Figure size 1440x360 with 1 Axes>"
      ]
     },
     "metadata": {
      "needs_background": "light"
     },
     "output_type": "display_data"
    }
   ],
   "source": [
    "feats = {}\n",
    "X_train = pd.get_dummies(train_train[['station_id', 'month', 'hour', 'night', 'day_name', 'hol_dum', 'temp', 'rain', 'bikes_available_y', 'bikes_available_y.1']])\n",
    "\n",
    "for feature, importance in zip(X_train.columns, rf.feature_importances_):\n",
    "    feats[feature] = importance\n",
    "\n",
    "importances = pd.DataFrame.from_dict(feats, orient = 'index').rename(columns={0: 'importance'})\n",
    "importances.sort_values(by = 'importance').plot(kind = 'bar', figsize=(20, 5))"
   ]
  },
  {
   "cell_type": "code",
   "execution_count": 16,
   "id": "60ab157d",
   "metadata": {},
   "outputs": [],
   "source": [
    "# station_idごとに異なるランダムフォレストをつくる\n",
    "\n",
    "Y_test  = train_val.bikes_available_x\n",
    "Y_pred  = Y_test.copy()\n",
    "\n",
    "Y_train = train_train.bikes_available_x[train_train.station_id == '0']\n",
    "X_train = train_train[['month', 'hour', 'night', 'day_name', 'hol_dum', 'temp', 'rain', 'bikes_available_y', 'bikes_available_y.1']][train_train.station_id == '0']\n",
    "X_test  = train_val[['month', 'hour', 'night', 'day_name', 'hol_dum', 'temp', 'rain', 'bikes_available_y', 'bikes_available_y.1']][train_val.station_id == '0']\n",
    "X_train = pd.get_dummies(X_train).iloc[:,:].values\n",
    "X_test  = pd.get_dummies(X_test).iloc[:,:].values\n",
    "\n",
    "rf = RandomForestRegressor(criterion = 'mse', max_features = 2, n_estimators = 300, min_samples_leaf = 10, random_state = 1)\n",
    "rf.fit(X_train, Y_train)\n",
    "Y_pred[train_val.station_id == '0'] = rf.predict(X_test)\n",
    "\n",
    "for i in range(1, 70):\n",
    "    Y_train = train_train.bikes_available_x[train_train.station_id == str(i)]\n",
    "    X_train = train_train[['month', 'hour', 'night', 'day_name', 'hol_dum', 'temp', 'rain', 'bikes_available_y', 'bikes_available_y.1']][train_train.station_id == str(i)]\n",
    "    X_test  = train_val[['month', 'hour', 'night', 'day_name', 'hol_dum', 'temp', 'rain', 'bikes_available_y', 'bikes_available_y.1']][train_val.station_id == str(i)]\n",
    "    X_train = pd.get_dummies(X_train).iloc[:,:].values\n",
    "    X_test  = pd.get_dummies(X_test).iloc[:,:].values\n",
    "    rf = RandomForestRegressor(criterion = 'mse', max_features = 2, n_estimators = 300, min_samples_leaf = 10, random_state = 1)\n",
    "    rf.fit(X_train, Y_train)\n",
    "    Y_pred[train_val.station_id == str(i)] = rf.predict(X_test)"
   ]
  },
  {
   "cell_type": "code",
   "execution_count": 17,
   "id": "be658b2d",
   "metadata": {},
   "outputs": [
    {
     "name": "stdout",
     "output_type": "stream",
     "text": [
      "3.035696074725056\n"
     ]
    }
   ],
   "source": [
    "mse_score = mean_squared_error(Y_test, Y_pred)\n",
    "print(mse_score**0.5)"
   ]
  },
  {
   "cell_type": "code",
   "execution_count": null,
   "id": "5edeba10",
   "metadata": {},
   "outputs": [],
   "source": []
  }
 ],
 "metadata": {
  "kernelspec": {
   "display_name": "Python 3",
   "language": "python",
   "name": "python3"
  },
  "language_info": {
   "codemirror_mode": {
    "name": "ipython",
    "version": 3
   },
   "file_extension": ".py",
   "mimetype": "text/x-python",
   "name": "python",
   "nbconvert_exporter": "python",
   "pygments_lexer": "ipython3",
   "version": "3.7.10"
  }
 },
 "nbformat": 4,
 "nbformat_minor": 5
}
